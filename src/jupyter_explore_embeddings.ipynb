{
 "cells": [
  {
   "cell_type": "markdown",
   "metadata": {},
   "source": [
    "# Exploring word vectors\n",
    "\n",
    "This notebook provides very basic tools for exploring the contents of word embeddings.\n",
    "\n",
    "NOTE:\n",
    "If you do not have Gensim installed, this notebook will not work. If you are using Anaconda, open your conda prompt and type ```conda install -c conda-forge gensim```. Sometimes it may be necessary also to update smart_open by typing ```conda update smart_open```.\n",
    "\n",
    "If everything works, the following line should run without errors."
   ]
  },
  {
   "cell_type": "code",
   "execution_count": 1,
   "metadata": {},
   "outputs": [],
   "source": [
    "from explore_embeddings import VectorExplorer"
   ]
  },
  {
   "cell_type": "markdown",
   "metadata": {},
   "source": [
    "At first we initialize the VectorExplorer object and load our vector file. If you produced your word embeddings from the test corpus included in ```corpora/akkadian.zip```, you can also load the dictionary file. If you don't have a dictionary, you can just comment the line out.\n",
    "\n",
    "The dictionary contains all words, frequencies and translations of the test corpus in TSV format.\n",
    "\n",
    "| Field1 | Field2 | Field3 |\n",
    "| -- | -- | -- |\n",
    "| lemma | frequency | translations separated by ```;``` |\n"
   ]
  },
  {
   "cell_type": "code",
   "execution_count": 2,
   "metadata": {},
   "outputs": [],
   "source": [
    "embeddings = VectorExplorer()\n",
    "embeddings.read_vectors('akkadian.vec')\n",
    "embeddings.read_dict('akk_corpus.dict')"
   ]
  },
  {
   "cell_type": "markdown",
   "metadata": {},
   "source": [
    "## Finding nearest neighbors by lemma\n",
    "\n",
    "By using ```nearest_neighbors()``` function, you can query the embeddings. This function takes three arguments:\n",
    "\n",
    "\n",
    "| Parameter | Type | What it does |\n",
    "| :- | -: | :- |\n",
    "| **word** | str | Word you want to find the nearest neighbors for. |\n",
    "| **num** | int | How many nearest neighbors you want to find. |\n",
    "| **min_freq** | int | Do not print nearest neighbors if they are rarer than this (requires dictionary) |\n"
   ]
  },
  {
   "cell_type": "code",
   "execution_count": 3,
   "metadata": {},
   "outputs": [
    {
     "name": "stdout",
     "output_type": "stream",
     "text": [
      "----------------------------------------------------------------\n",
      "nêru_I strike[110];killer[11]\n",
      "----------------------------------------------------------------\n",
      "0.853664 gērû_I                    72     opponent[72]                            \n",
      "0.837647 zāʾeru_1                  61     enemy[61]                               \n",
      "0.833618 zāwiānu_I                 48     enemy[48]                               \n",
      "0.829792 ayyābu_I                  121    enemy[121]                              \n",
      "0.791450 ṭarādu_I                  24     send[12];one who drives away[9];send off[3]\n",
      "0.771796 qemû_1                    4      grind[4]                                \n",
      "0.767695 nakāpu_I                  16     push[11];one who gores[5]               \n",
      "0.754151 šūbu_1                    2      rush[2]                                 \n",
      "0.748208 šuknušu_I                 37     one who makes someone bow down[35];humble[2]\n",
      "0.748008 kāšidu_I                  100    conqueror[98];conquering[2]             \n"
     ]
    }
   ],
   "source": [
    "embeddings.nearest_neighbors('nêru_I', num=10, min_freq=2)"
   ]
  },
  {
   "cell_type": "markdown",
   "metadata": {},
   "source": [
    "In the test corpus lemmata have been disambiguated by their meanings. Thus for ```rabû``` there are ```rabû_I```, ```rabû_II``` etc. You do not have to use the Roman numerals in your queries. VectorExplorer will find you all the lemmata that match your search anyway."
   ]
  },
  {
   "cell_type": "code",
   "execution_count": 4,
   "metadata": {},
   "outputs": [
    {
     "name": "stdout",
     "output_type": "stream",
     "text": [
      "----------------------------------------------------------------\n",
      "sisû_I horse[967]\n",
      "----------------------------------------------------------------\n",
      "0.847284 ṣimittu_I                 52     binding[52]                             \n",
      "0.823162 parû_I                    114    mule[114]                               \n",
      "0.810611 udru_I                    23     Bactrian camel[23]                      \n",
      "0.743731 kūdanu_I                  122    mule[122]                               \n",
      "0.720178 nīru_I                    316    yoke[315];(ornament for a yoke)[1]      \n",
      "0.712449 agālu_I                   8      donkey[8]                               \n",
      "0.706719 attartu_I                 5      (military) cart[5]                      \n",
      "0.687537 rukūbu_I                  32     vehicle[32]                             \n",
      "0.679626 urû_I                     62     team[57];team of equids[4];attendant of teams[1]\n",
      "0.672090 halluptu_1                8      armour[8]                               \n"
     ]
    }
   ],
   "source": [
    "embeddings.nearest_neighbors('sisû', num=10, min_freq=2)"
   ]
  },
  {
   "cell_type": "markdown",
   "metadata": {},
   "source": [
    "## Finding nearest neighbor by English translation\n",
    "\n",
    "If you have a dictionary file, you can also find words by their English translations by using ```nn_by_translation()``` function. This takes the same arguments as ```nearest_neighbors```, as well as the following:\n",
    "\n",
    "| Parameter | Type | What it does |\n",
    "| :- | -: | :- |\n",
    "| **start** | bool | If set True, only matches if a translation starts with the given word. Without this ```eat``` will also match ```beat, great``` etc. |\n"
   ]
  },
  {
   "cell_type": "code",
   "execution_count": 5,
   "metadata": {},
   "outputs": [
    {
     "name": "stdout",
     "output_type": "stream",
     "text": [
      "----------------------------------------------------------------\n",
      "ešmarû_I (a silver alloy)[25]\n",
      "----------------------------------------------------------------\n",
      "0.817299 ihzētu_I                  13     decorative inlay[13]                    \n",
      "0.812660 lahmu_I                   14     hairy[14]                               \n",
      "0.781151 patāqu_I                  117    brickwork[75];make brick structures[33];shaper[7];builder[1];shape[1]\n",
      "0.758944 zahalû_I                  46     silver alloy[46]                        \n",
      "0.731947 ebbu_I                    80     bright[80]                              \n",
      "0.725137 pašallu_I                 14     (an alloy of gold)[14]                  \n",
      "0.718554 urudû_I                   14     copper[14]                              \n",
      "0.684151 ṣāriru_I                  13     flashing red[13]                        \n",
      "0.663184 tiṣbutu_I                 4      linked[4]                               \n",
      "0.656203 gattu_I                   34     form[34]                                \n",
      "----------------------------------------------------------------\n",
      "kaspu_I silver[1140]\n",
      "----------------------------------------------------------------\n",
      "0.516681 hurāṣu_I                  958    gold[958]                               \n",
      "0.428024 muṣiptu_I                 2      (a garment)[2]                          \n",
      "0.425139 târu_I                    1460   turn[1449];turned[11]                   \n",
      "0.413076 siparru_I                 312    bronze[312]                             \n",
      "0.400111 pašallu_I                 14     (an alloy of gold)[14]                  \n",
      "0.395223 saʾuru_1                  3      (an ornament)[3]                        \n",
      "0.389243 lahmu_I                   14     hairy[14]                               \n",
      "0.388101 timmu_I                   81     pole[75];post[6]                        \n",
      "0.378476 ešriātu_I                 184    tenfold[184]                            \n",
      "0.377424 ihzētu_I                  13     decorative inlay[13]                    \n",
      "----------------------------------------------------------------\n",
      "zahalû_I silver alloy[46]\n",
      "----------------------------------------------------------------\n",
      "0.802623 patāqu_I                  117    brickwork[75];make brick structures[33];shaper[7];builder[1];shape[1]\n",
      "0.791091 urudû_I                   14     copper[14]                              \n",
      "0.758944 ešmarû_I                  25     (a silver alloy)[25]                    \n",
      "0.749968 ebbu_I                    80     bright[80]                              \n",
      "0.719593 gattu_I                   34     form[34]                                \n",
      "0.718070 apsasû_I                  86     (an exotic bovid)[86]                   \n",
      "0.708238 lahmu_I                   14     hairy[14]                               \n",
      "0.697428 litbušu_I                 30     clothed[30]                             \n",
      "0.691260 ṣāriru_I                  13     flashing red[13]                        \n",
      "0.683494 šaššāniš_I                2      like the sun[2]                         \n",
      "----------------------------------------------------------------\n",
      "ṣarpu_I silver[963];burnt[18]\n",
      "----------------------------------------------------------------\n",
      "0.833036 kišukku_II                2      grating?[2]                             \n",
      "0.693617 šuqultu_I                 52     weight[52]                              \n",
      "0.667011 šiqlu_I                   451    unit[297];shekel[154]                   \n",
      "0.656357 manû_II                   1264   unit[1264]                              \n",
      "0.647284 kappu_II                  47     hand[47]                                \n",
      "0.607002 hubbulu_I                 4      indebted[4]                             \n",
      "0.603399 udû_I                     15     tools[15]                               \n",
      "0.602862 ṣipru_I                   2      point[2]                                \n",
      "0.599753 šawiru_I                  114    ring[113];bracelet[1]                   \n",
      "0.584626 nehsu_I                   3      inlay[3]                                \n"
     ]
    }
   ],
   "source": [
    "embeddings.nn_by_translation('silver', num=10, min_freq=2, start=True)"
   ]
  },
  {
   "cell_type": "code",
   "execution_count": 7,
   "metadata": {},
   "outputs": [
    {
     "name": "stdout",
     "output_type": "stream",
     "text": [
      "----------------------------------------------------------------\n",
      "pīru_I elephant[103]\n",
      "----------------------------------------------------------------\n",
      "0.870922 pašhu_1                   8      (a hand-held weapon)[8]                 \n",
      "0.863017 pagû_I                    16     monkey[16]                              \n",
      "0.770402 turāhu_I                  4      ibex[4]                                 \n",
      "0.753727 lurmu_I                   11     ostrich[11]                             \n",
      "0.752174 illūru_I                  4      (a flower)[4]                           \n",
      "0.749477 būṣu_I                    4      hyaena[4]                               \n",
      "0.737633 ayyalu_I                  13     stag[13]                                \n",
      "0.729275 serrēmu_I                 11     onager[11]                              \n",
      "0.704693 nālu_1                    2      roe deer?[2]                            \n",
      "0.704264 ṣabītu_I                  15     gazelle[15]                             \n",
      "----------------------------------------------------------------\n",
      "šinnu&amp;&amp;pīru_1 tooth&amp;&amp;elephant[2]\n",
      "----------------------------------------------------------------\n",
      "0.877569 muṣappiu_I                2      dyer[2]                                 \n",
      "0.777325 uqniātu_I                 3      blue(-green) wool[3]                    \n",
      "0.771957 šullušu_I                 5      trebled[5]                              \n",
      "0.742379 hûratu_I                  2      madder[2]                               \n",
      "0.732864 kitû_I                    109    flax[109]                               \n",
      "0.731272 ṭīmu_I                    3      yarn[3]                                 \n",
      "0.730143 karballatu_I              4      (pointed) hat[4]                        \n",
      "0.715760 šīpātu&amp;&amp;sāmtu_1   12     wool&amp;&amp;redness[12]               \n",
      "0.688663 maqāṭu_I                  25     (a garment)[25]                         \n",
      "0.688327 šīpātu&amp;&amp;ṣalmu_1   7      wool&amp;&amp;black[7]                  \n"
     ]
    }
   ],
   "source": [
    "embeddings.nn_by_translation('elephant', num=10, min_freq=2, start=False)"
   ]
  },
  {
   "cell_type": "markdown",
   "metadata": {},
   "source": [
    "## TODO:\n",
    "\n",
    "- Unescape HTML entities\n",
    "- Analogies\n",
    "- POS filters\n",
    "- Gephi export"
   ]
  },
  {
   "cell_type": "code",
   "execution_count": null,
   "metadata": {},
   "outputs": [],
   "source": []
  }
 ],
 "metadata": {
  "kernelspec": {
   "display_name": "Python 3",
   "language": "python",
   "name": "python3"
  },
  "language_info": {
   "codemirror_mode": {
    "name": "ipython",
    "version": 3
   },
   "file_extension": ".py",
   "mimetype": "text/x-python",
   "name": "python",
   "nbconvert_exporter": "python",
   "pygments_lexer": "ipython3",
   "version": "3.7.4"
  }
 },
 "nbformat": 4,
 "nbformat_minor": 2
}
